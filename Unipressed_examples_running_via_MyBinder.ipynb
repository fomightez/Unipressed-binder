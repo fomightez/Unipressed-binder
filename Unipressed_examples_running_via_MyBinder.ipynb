{
 "cells": [
  {
   "cell_type": "markdown",
   "id": "83dab5f7-175b-4112-8db6-828fbd270151",
   "metadata": {},
   "source": [
    "# Unipressed examples running via MyBinder\n",
    "\n",
    "There's a Python package, [Unipressed](https://multimeric.github.io/Unipressed/), by Michael Milton ([@multimeric](https://twitter.com/multimeric)) that allows programmatic access query UniProt's new REST API.  \n",
    "\n",
    "This notebook combines some of my examples on StackOverflow and Biostars to work in sessions served by MyBinder.\n",
    "This is designed so you can easily edit these and run your own versions to test things out or collect useful information.  \n",
    "Be aware though this MyBinder-served session has limited computational resources and so you may easily exceed what is possible here and need to take the ideas and code and move to where you have more resources. Additionally, MyBinder blocks FTP ports to prevent abuse and so not all routes work to retrieve data.\n",
    "\n",
    "If you do make something useful in your session, grab the code and save it on your local machine or save the current notebook and download it to your machine to upload it to later sessions to pick up where you left off. The same goes for any data you generate! (You'll need to run the installs at the top everytime unless I have set up the environment to already include them installed at session start-up. I HAVE NOT DONE THIS YET.)  "
   ]
  },
  {
   "cell_type": "markdown",
   "id": "d6ad985a-705c-400d-9244-0cdb2215571e",
   "metadata": {},
   "source": [
    "---------\n",
    "\n",
    "### Prepare environment in session by installing packages needed"
   ]
  },
  {
   "cell_type": "code",
   "execution_count": null,
   "id": "1ea802c9-904b-4c3e-aad9-62e281541c63",
   "metadata": {},
   "outputs": [],
   "source": [
    "%pip install unipressed pandas"
   ]
  },
  {
   "cell_type": "markdown",
   "id": "bc7ac536-a6d3-422e-b1de-b495827b39ad",
   "metadata": {},
   "source": [
    "------"
   ]
  },
  {
   "cell_type": "markdown",
   "id": "58e23d49-421d-4d60-b947-6751a4a5369c",
   "metadata": {},
   "source": [
    "#### Get PDB files from a list of Uniprot IDs\n",
    "\n",
    "Based on combining Unipressed use via my MyBinder with [Biostars reply by Mensur Dlakic](https://www.biostars.org/p/9602308/#9602314):"
   ]
  },
  {
   "cell_type": "markdown",
   "id": "76b6fe6c-d621-4117-9fb8-a5785a331a11",
   "metadata": {},
   "source": [
    "The list with each UniProt id on a separate line goes between the `'''` below:"
   ]
  },
  {
   "cell_type": "code",
   "execution_count": null,
   "id": "79061b63-a0b2-4da6-af10-af637d8f5b7e",
   "metadata": {},
   "outputs": [],
   "source": [
    "l='''\n",
    "O75771\n",
    "Q8N183\n",
    "Q9UBX5\n",
    "Q86VB7\n",
    "B7ZKJ8\n",
    "P04792\n",
    "A0A0G2JPR0\n",
    "'''"
   ]
  },
  {
   "cell_type": "code",
   "execution_count": null,
   "id": "36be0192-8e0c-4c34-9f8e-a45b784b32ee",
   "metadata": {},
   "outputs": [],
   "source": [
    "l='''\n",
    "O75771\n",
    "Q8N183\n",
    "A0A0M3KKX3\n",
    "'''"
   ]
  },
  {
   "cell_type": "code",
   "execution_count": null,
   "id": "0e218e32-c3d1-40aa-8aaf-12b86412c771",
   "metadata": {},
   "outputs": [],
   "source": [
    "# This cell takes the item listing and makes a Python list object out of it\n",
    "id_list = l.split(\"\\n\")\n",
    "# next line uses a Python trick to remove the blank ones /empty ones that came from way I made list convenient to paste into\n",
    "id_list = [x for x in id_list if x]\n",
    "id_list"
   ]
  },
  {
   "cell_type": "code",
   "execution_count": null,
   "id": "48d90dc6-8ca7-41c1-a861-217857096137",
   "metadata": {},
   "outputs": [],
   "source": [
    "from unipressed import IdMappingClient\n",
    "import time\n",
    "request = IdMappingClient.submit(\n",
    "    source=\"UniProtKB_AC-ID\", dest=\"PDB\", ids=id_list\n",
    ")\n",
    "time.sleep(3.0)\n",
    "results_list = list(request.each_result())"
   ]
  },
  {
   "cell_type": "code",
   "execution_count": null,
   "id": "e479966f-85b2-4312-9ded-ca911340642d",
   "metadata": {},
   "outputs": [],
   "source": [
    "results_list "
   ]
  },
  {
   "cell_type": "code",
   "execution_count": null,
   "id": "332aae86-b71f-4ae5-b482-b17285fbcaa6",
   "metadata": {},
   "outputs": [],
   "source": [
    "import pandas as pd\n",
    "results_df = pd.DataFrame(results_list)\n",
    "results_df"
   ]
  },
  {
   "cell_type": "markdown",
   "id": "dc13c30a-f660-4a19-bcb3-d30bf838557c",
   "metadata": {},
   "source": [
    "Identify those that failed to get experimental PDB match:"
   ]
  },
  {
   "cell_type": "code",
   "execution_count": null,
   "id": "731d09e8-0bba-4a8f-b334-46d7ca6a26e2",
   "metadata": {},
   "outputs": [],
   "source": [
    "ids_with_experimental_structures = results_df['from'].unique() # Note cannot use `results_df.from.unique()` because `from` is a Python keyword used in imports\n",
    "ids_with_no_experimental_structure_exists = list(set(id_list) - set(ids_with_experimental_structures))"
   ]
  },
  {
   "cell_type": "markdown",
   "id": "fc40fe99-17e7-4b91-b2d8-ccf3641fac07",
   "metadata": {},
   "source": [
    "Get the structures for the experimental matches:\n",
    "First we'll take advantage of Python to do this. Then we'll show the code/approach that would better match the route outlined [by Mensur Dlakic in his Biostars reply](https://www.biostars.org/p/9602308/#9602314) where the contents of a text file are piped into the retrieve command.\n",
    "\n",
    "First... \n",
    "Staying mostly in with using in-memory Python objects and employing Jupyter conveniences. In other words, mainly not making a separate text file:"
   ]
  },
  {
   "cell_type": "markdown",
   "id": "14136364-f5d5-43c7-b2dd-07c8559fbe23",
   "metadata": {},
   "source": [
    "pdb_ids = results_df['to'].unique() # limit to unique because no point repeating redundant entries\n",
    "for an_id in pdb_ids:\n",
    "    !curl -OL https://files.rcsb.org/download/{an_id}.cif.gz\n",
    "    !gunzip {an_id}.cif.gz"
   ]
  },
  {
   "cell_type": "markdown",
   "id": "239295ac-81a1-435e-89a1-6ea70fc36ce8",
   "metadata": {},
   "source": [
    "Or if you want the traditional `pdb` files:"
   ]
  },
  {
   "cell_type": "code",
   "execution_count": null,
   "id": "2571cee0-ca16-4c99-b53b-a635ff5add83",
   "metadata": {},
   "outputs": [],
   "source": [
    "pdb_ids = results_df['to'].unique() # limit to unique because no point repeating redundant entries\n",
    "for an_id in pdb_ids:\n",
    "    !curl -OL https://files.rcsb.org/download/{an_id}.pdb.gz\n",
    "    !gunzip {an_id}.pdb.gz"
   ]
  },
  {
   "cell_type": "markdown",
   "id": "67c68240-afb2-4757-a445-cf6b00b446f2",
   "metadata": {},
   "source": [
    "Second...  \n",
    "To do it so it better matches the [Biostars reply by Mensur Dlakic](https://www.biostars.org/p/9602308/#9602314), where piping the file of the PDB ids to be retrieved to the retieval command. Note though HERE IT IS DONE WITHOUT FTP SINCE BLOCKED IN MYBINDER SESSIONS.  \n",
    "To do that, try the next two cells:"
   ]
  },
  {
   "cell_type": "code",
   "execution_count": null,
   "id": "0ce18305-7b25-40d7-a511-006493b61faf",
   "metadata": {},
   "outputs": [],
   "source": [
    "pdb_ids = results_df['to'].unique() # limit to unique because no point repeating redundant entries\n",
    "# save those ids in the Python list to a file `pdb_ids.txt` to better match what Mensur Dlakic's approach\n",
    "with open(\"pdb_ids.txt\", 'w') as f:\n",
    "    f.write(\"\\n\".join(pdb_ids))"
   ]
  },
  {
   "cell_type": "markdown",
   "id": "ab8c31a8-6b33-4b57-95a6-852f3a9ccb3c",
   "metadata": {},
   "source": [
    "Note there should now be a file `pdb_ids.txt` in this session if you look in the file navigator pane to the left. If you already had a list of your own PDB entry ids with one on each line and no header, you could replace the content of `pdb_ids.txt` in this session with yours before running the next cell.\n",
    "\n",
    "Running next cell will actually do the downloading after we have se things up:"
   ]
  },
  {
   "cell_type": "code",
   "execution_count": null,
   "id": "21880da1-e984-401d-b237-116c97743061",
   "metadata": {},
   "outputs": [],
   "source": [
    "!cat pdb_ids.txt | xargs -i wget -q -o /dev/null https://files.rcsb.org/download/\"{}\".pdb # based on https://www.rcsb.org/docs/programmatic-access/file-download-services#file-access-urls-"
   ]
  },
  {
   "cell_type": "markdown",
   "id": "152f4af1-de13-467e-b846-fc079cfa09ba",
   "metadata": {},
   "source": [
    "-------------------\n",
    "\n",
    "#### Additional Unipressed snippets from answers I had at StackOverflow and Biostars follow:\n",
    "\n",
    "I'll eventually better detail these but for now the links to the associated StackOverflow and Biostars answers are provided for further investigation.\n",
    "\n",
    "-------------------"
   ]
  },
  {
   "cell_type": "code",
   "execution_count": null,
   "id": "ce17b116-8dbf-43c2-a65e-7a01edcef600",
   "metadata": {},
   "outputs": [],
   "source": [
    "# associated with https://stackoverflow.com/a/73586628/8508004\n",
    "from unipressed import IdMappingClient\n",
    "request = IdMappingClient.submit(\n",
    "    source=\"UniProtKB_AC-ID\", dest=\"PDB\", ids={\"A0A0M3KKX3\"}\n",
    ")\n",
    "time.sleep(3.0)\n",
    "results_list = list(request.each_result())"
   ]
  },
  {
   "cell_type": "code",
   "execution_count": null,
   "id": "0f6a3949-6e2e-4f84-af1f-dbdeeaa572a3",
   "metadata": {},
   "outputs": [],
   "source": [
    "import pandas as pd\n",
    "results_df = pd.DataFrame(results_list)\n",
    "results_df"
   ]
  },
  {
   "cell_type": "markdown",
   "id": "cfd7658c-2ea1-4d4d-95e8-6e89c0e17115",
   "metadata": {},
   "source": [
    "-------------------"
   ]
  },
  {
   "cell_type": "code",
   "execution_count": null,
   "id": "3c90f0ea-d890-48a4-89e0-e932a060af5e",
   "metadata": {},
   "outputs": [],
   "source": [
    "# from https://www.biostars.org/p/9560315/#9560336\n",
    "from unipressed import IdMappingClient\n",
    "import time\n",
    "request = IdMappingClient.submit(\n",
    "    source=\"UniProtKB_AC-ID\", dest=\"Gene_Name\", ids={\"P10643\",\"P11717\",\"P00450\",\"Q86VB7\",\"P27169\",\"P01871\",\"P06727\",\"O00299\", \"Q9UBX5\", \"B7ZKJ8\",\"A0A0G2JPR0\",\"P09493\",\"P35443\",\"Q9Y4F1\",\"P23141\", \"Q8WWA0\", \"P04792\", \"P26447\", \"P07237\", \"P08571\", \"Q9UPN3\", \"P14151\", \"P49908\", \"P33151\", \"P26038\"}\n",
    ")\n",
    "time.sleep(5)\n",
    "results_list = list(request.each_result())"
   ]
  },
  {
   "cell_type": "code",
   "execution_count": null,
   "id": "ee6f8570-1d19-48f8-99bd-9dcd3e92bb12",
   "metadata": {},
   "outputs": [],
   "source": [
    "import pandas as pd\n",
    "results_df = pd.DataFrame(results_list)\n",
    "results_df"
   ]
  },
  {
   "cell_type": "markdown",
   "id": "48f26952-37b0-436f-aced-ed2b0440ea7b",
   "metadata": {},
   "source": [
    "-------------------"
   ]
  },
  {
   "cell_type": "code",
   "execution_count": null,
   "id": "9cfd1497-bc92-4124-b018-f86fb62fe256",
   "metadata": {},
   "outputs": [],
   "source": [
    "# associated with https://stackoverflow.com/a/73586386/8508004\n",
    "from unipressed import IdMappingClient\n",
    "import time\n",
    "request = IdMappingClient.submit(\n",
    "    source=\"GeneCards\", dest=\"UniProtKB\", ids={\"POTEB3\", \"SYCE3\", \"CLRN2\"}\n",
    ")\n",
    "time.sleep(5.0)\n",
    "results_list = list(request.each_result())"
   ]
  },
  {
   "cell_type": "code",
   "execution_count": null,
   "id": "b5e61a86-b63e-42bf-a495-a193fcf63f50",
   "metadata": {},
   "outputs": [],
   "source": [
    "import pandas as pd\n",
    "results_df = pd.DataFrame(results_list)\n",
    "results_df"
   ]
  },
  {
   "cell_type": "markdown",
   "id": "fa31bb62-d8f0-4b63-9d17-fe3f8f33ad9d",
   "metadata": {},
   "source": [
    "-------"
   ]
  },
  {
   "cell_type": "code",
   "execution_count": null,
   "id": "f1b9da86-a660-4ca9-a9ef-abf9cf6d14c2",
   "metadata": {},
   "outputs": [],
   "source": [
    "# associated with https://stackoverflow.com/a/73587249/8508004\n",
    "from unipressed import UniprotkbClient\n",
    "UniprotkbClient.fetch_one(\"P03468\")[\"uniProtKBCrossReferences\"]"
   ]
  },
  {
   "cell_type": "markdown",
   "id": "eecb2638-a4df-4438-9704-421d755490e3",
   "metadata": {},
   "source": [
    "-------"
   ]
  },
  {
   "cell_type": "code",
   "execution_count": null,
   "id": "b3945227-46ce-4a80-97bd-f64cb25d8bc3",
   "metadata": {},
   "outputs": [],
   "source": [
    "# associated with https://www.biostars.org/p/286919/#9537049\n",
    "from unipressed import UniprotkbClient\n",
    "for record in UniprotkbClient.search(\n",
    "    query={\n",
    "        \"or_\": [\n",
    "        {\"ec\": \"3.1.3.9\"},\n",
    "        {\"ec\": \"2.7.1.2\"},\n",
    "        ],\n",
    "        \"and_\": [\n",
    "        {\"organism_id\": \"9606\"},\n",
    "        ]\n",
    "    },\n",
    "    #fields=[\"length\", \"gene_names\"]\n",
    ").each_record():\n",
    "    display(record)"
   ]
  },
  {
   "cell_type": "markdown",
   "id": "e9b77944-8e76-4fe6-a930-fa50d86ef609",
   "metadata": {},
   "source": [
    "Get that as tab-separated values, `.tsv`:"
   ]
  },
  {
   "cell_type": "code",
   "execution_count": null,
   "id": "f5365d8f-496c-4919-ae21-0c84522b27a8",
   "metadata": {},
   "outputs": [],
   "source": [
    "# associated with https://www.biostars.org/p/286919/#9537049\n",
    "from unipressed import UniprotkbClient\n",
    "for record in UniprotkbClient.search(\n",
    "    query={\n",
    "        \"or_\": [\n",
    "        {\"ec\": \"3.1.3.9\"},\n",
    "        {\"ec\": \"2.7.1.2\"},\n",
    "        ],\n",
    "        \"and_\": [\n",
    "        {\"organism_id\": \"9606\"},\n",
    "        ]\n",
    "    },\n",
    "    format=\"tsv\",\n",
    "    fields=[\"accession\",\"gene_names\", \"length\"]\n",
    ").each_record():\n",
    "    display(record)"
   ]
  },
  {
   "cell_type": "markdown",
   "id": "20fc6ddb-3aee-4f60-9893-ce663ed83d5b",
   "metadata": {},
   "source": [
    "Saving records as `.tsv` files:"
   ]
  },
  {
   "cell_type": "code",
   "execution_count": null,
   "id": "1ccb2c80-3db6-44f7-ace0-3f585d1eea96",
   "metadata": {},
   "outputs": [],
   "source": [
    "# from https://gist.github.com/fomightez/54e3b38c9ac516e6687924349527873d\n",
    "from unipressed import UniprotkbClient\n",
    "import shutil\n",
    "for i,record in enumerate(UniprotkbClient.search(\n",
    "    query={\n",
    "        \"or_\": [\n",
    "        {\"ec\": \"3.1.3.9\"},\n",
    "        {\"ec\": \"2.7.1.2\"},\n",
    "        ],\n",
    "        \"and_\": [\n",
    "        {\"organism_id\": \"9606\"},\n",
    "        ]\n",
    "    },\n",
    "    format=\"tsv\",\n",
    "    fields=[\"accession\",\"gene_names\", \"length\"]\n",
    ").each_page()):\n",
    "    with open(f\"{i+1}.tsv\", \"w\") as dest:\n",
    "        shutil.copyfileobj(record, dest)"
   ]
  },
  {
   "cell_type": "markdown",
   "id": "43b879e1-54f1-4cbc-822f-391a7c45eb1b",
   "metadata": {},
   "source": [
    "You can filter those isoforms to get the 4 seen in the direct access by filtering out any where there's a dash in in the name (see [here](https://www.biostars.org/p/286919/#9537049) for what that my about), like so:"
   ]
  },
  {
   "cell_type": "code",
   "execution_count": null,
   "id": "d4585d15-5fca-4040-adb9-6af060e54a39",
   "metadata": {},
   "outputs": [],
   "source": [
    "# associated with https://www.biostars.org/p/286919/#9537049\n",
    "from unipressed import UniprotkbClient\n",
    "\n",
    "collected=[]\n",
    "for record in UniprotkbClient.search(\n",
    "    query={\n",
    "        \"or_\": [\n",
    "        {\"ec\": \"3.1.3.9\"},\n",
    "        {\"ec\": \"2.7.1.2\"},\n",
    "        ],\n",
    "        \"and_\": [\n",
    "        {\"organism_id\": \"9606\"},\n",
    "        ]\n",
    "    },\n",
    "    fields=[\"length\", \"gene_names\"]\n",
    ").each_record():\n",
    "    collected.append(record)\n",
    "collected = [x for x in collected if \"-\" not in x[\"primaryAccession\"]]\n",
    "collected"
   ]
  },
  {
   "cell_type": "markdown",
   "id": "a2542312-cf24-4202-bc12-f4c1d3b745c8",
   "metadata": {},
   "source": [
    "XML Format Example:\n",
    "\n",
    "The original post in particular asked about downloading the results in XML format. And Unipressed has that built in already. Here some accessing & printing of data stored in the XML record object is done to show something human readable:"
   ]
  },
  {
   "cell_type": "code",
   "execution_count": null,
   "id": "6ed2a872-6ae2-46ce-b028-2213fcca37ee",
   "metadata": {},
   "outputs": [],
   "source": [
    "# associated with https://www.biostars.org/p/286919/#9537049 , see also https://gist.github.com/fomightez/9d6a04385d143bf7c1de34cefffc0101\n",
    "from unipressed import UniprotkbClient\n",
    "for record in UniprotkbClient.search(\n",
    "    query={\n",
    "        \"or_\": [\n",
    "        {\"ec\": \"3.1.3.9\"},\n",
    "        {\"ec\": \"2.7.1.2\"},\n",
    "        ],\n",
    "        \"and_\": [\n",
    "        {\"organism_id\": \"9606\"},\n",
    "        ]\n",
    "    },\n",
    "    format=\"xml\",\n",
    ").each_record():\n",
    "    #Show XML object as string by uncommenting out the next two lines & deleting everything after those lines\n",
    "    #from xml.etree import ElementTree # from https://stackoverflow.com/a/48671499/8508004\n",
    "    #print(ElementTree.tostring(record, encoding='unicode'))\n",
    "    #Below based on [Processing XML in Python — ElementTree:A Beginner’s Guide](https://towardsdatascience.com/processing-xml-in-python-elementtree-c8992941efd2)\n",
    "    # slice `[28:]` added to remove `{http://uniprot.org/uniprot}` from the front of tags\n",
    "    #[print(elem.tag[28:]) for elem in record.iter()]\n",
    "    #[print(child.tag, child.attrib) for child in record]\n",
    "    [print(elem.tag[28:], elem.attrib, elem.text) for elem in record.iter('{http://uniprot.org/uniprot}fullName')]\n",
    "    [print(elem.tag[28:], elem.attrib, elem.text) for elem in record.iter('{http://uniprot.org/uniprot}ecNumber')]\n",
    "    [print(elem.tag[28:], elem.attrib) for elem in record.iter('{http://uniprot.org/uniprot}proteinExistence')]\n",
    "    print(\"*\"*60)"
   ]
  },
  {
   "cell_type": "markdown",
   "id": "10c05bed-80c0-49ef-bc9e-a3d1d1987aee",
   "metadata": {},
   "source": [
    "--------\n",
    "\n",
    "Enjoy!"
   ]
  }
 ],
 "metadata": {
  "kernelspec": {
   "display_name": "Python 3 (ipykernel)",
   "language": "python",
   "name": "python3"
  },
  "language_info": {
   "codemirror_mode": {
    "name": "ipython",
    "version": 3
   },
   "file_extension": ".py",
   "mimetype": "text/x-python",
   "name": "python",
   "nbconvert_exporter": "python",
   "pygments_lexer": "ipython3",
   "version": "3.11.9"
  }
 },
 "nbformat": 4,
 "nbformat_minor": 5
}
